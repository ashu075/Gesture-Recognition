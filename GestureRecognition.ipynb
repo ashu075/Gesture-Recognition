{
 "cells": [
  {
   "cell_type": "markdown",
   "metadata": {},
   "source": [
    "# Gesture Recognition\n",
    " build a 3D Conv model that will be able to predict the 5 gestures correctly. \n",
    "import required libraries"
   ]
  },
  {
   "cell_type": "code",
   "execution_count": 23,
   "metadata": {},
   "outputs": [],
   "source": [
    "import numpy as np\n",
    "import os\n",
    "from scipy.misc import imread, imresize\n",
    "import datetime\n",
    "import os"
   ]
  },
  {
   "cell_type": "markdown",
   "metadata": {},
   "source": [
    "We set the random seed so that the results don't vary drastically."
   ]
  },
  {
   "cell_type": "code",
   "execution_count": 24,
   "metadata": {},
   "outputs": [],
   "source": [
    "np.random.seed(30)\n",
    "import random as rn\n",
    "rn.seed(30)\n",
    "from keras import backend as K\n",
    "import tensorflow as tf\n",
    "tf.set_random_seed(30)"
   ]
  },
  {
   "cell_type": "markdown",
   "metadata": {},
   "source": [
    "In this block, you read the folder names for training and validation. You also set the `batch_size` here. Note that you set the batch size in such a way that you are able to use the GPU in full capacity. You keep increasing the batch size until the machine throws an error."
   ]
  },
  {
   "cell_type": "code",
   "execution_count": 25,
   "metadata": {},
   "outputs": [],
   "source": [
    "train_doc = np.random.permutation(open('./Project_data/train.csv').readlines())\n",
    "val_doc = np.random.permutation(open('./Project_data/val.csv').readlines())\n",
    "batch_size = 30 #experiment with the batch size"
   ]
  },
  {
   "cell_type": "markdown",
   "metadata": {},
   "source": [
    "## Generator\n",
    "This is one of the most important part of the code.In the generator, you are going to preprocess the images as you have images of 2 different dimensions as well as create a batch of video frames. You have to experiment with `img_idx`, `y`,`z` and normalization such that you get high accuracy."
   ]
  },
  {
   "cell_type": "code",
   "execution_count": 27,
   "metadata": {},
   "outputs": [],
   "source": [
    "def generator(source_path, folder_list, batch_size):\n",
    "    print( 'Source path = ', source_path, '; batch size =', batch_size)\n",
    "    img_idx = np.round(np.linspace(0,total_frames-1,frames_to_sample)).astype(int) #create a list of image numbers you want to use for a particular video\n",
    "    while True:\n",
    "        t = np.random.permutation(folder_list)\n",
    "        num_batches = len(t)//batch_size # calculate the number of batches\n",
    "        for batch in range(num_batches): # we iterate over the number of batches\n",
    "            batch_data = np.zeros((batch_size,x,y,z,3)) # x is the number of images you use for each video, (y,z) is the final size of the input images and 3 is the number of channels RGB\n",
    "            batch_labels = np.zeros((batch_size,5)) # batch_labels is the one hot representation of the output\n",
    "            for folder in range(batch_size): # iterate over the batch_size\n",
    "                imgs = os.listdir(source_path+'/'+ t[folder + (batch*batch_size)].split(';')[0]) # read all the images in the folder\n",
    "                for idx,item in enumerate(img_idx): #  Iterate iver the frames/images of a folder to read them in\n",
    "                    image = imread(source_path+'/'+ t[folder + (batch*batch_size)].strip().split(';')[0]+'/'+imgs[item]).astype(np.float32)\n",
    "                    \n",
    "                    #crop the images and resize them. Note that the images are of 2 different shape \n",
    "                    #and the conv3D will throw error if the inputs in a batch have different shapes\n",
    "                    image_resized=imresize(image,(image_height,image_width,3))\n",
    "                    \n",
    "                    batch_data[folder,idx,:,:,0] = (image_resized[:,:,0])/255 #normalise and feed in the image\n",
    "                    batch_data[folder,idx,:,:,1] = (image_resized[:,:,1])/255 #normalise and feed in the image\n",
    "                    batch_data[folder,idx,:,:,2] = (image_resized[:,:,2])/255 #normalise and feed in the image\n",
    "                    \n",
    "                batch_labels[folder, int(t[folder + (batch*batch_size)].strip().split(';')[2])] = 1\n",
    "            yield batch_data, batch_labels #you yield the batch_data and the batch_labels, remember what does yield do\n",
    "\n",
    "        \n",
    "        # write the code for the remaining data points which are left after full batches\n",
    "        import cv2\n",
    "        seq_len=len(t)%batch_size\n",
    "        if (seq_len!=0):\n",
    "            batch_data = np.zeros((seq_len,len(img_idx),image_height,image_width,channels)) \n",
    "            batch_labels = np.zeros((seq_len,num_classes)) \n",
    "\n",
    "            if (augment): batch_data_aug = np.zeros((seq_len,len(img_idx),image_height,image_width,channels))\n",
    "\n",
    "\n",
    "            for folder in range(seq_len): \n",
    "                imgs = os.listdir(source_path+'/'+ t[folder + (batch*batch_size)].split(';')[0]) \n",
    "                for idx,item in enumerate(img_idx): \n",
    "                    image = imread(source_path+'/'+ t[folder + (batch*batch_size)].strip().split(';')[0]+'/'+imgs[item]).astype(np.float32)\n",
    "                    image_resized=imresize(image,(image_height,image_width,3))\n",
    "\n",
    "\n",
    "                    batch_data[folder,idx,:,:,0] = (image_resized[:,:,0])/255\n",
    "                    batch_data[folder,idx,:,:,1] = (image_resized[:,:,1])/255\n",
    "                    batch_data[folder,idx,:,:,2] = (image_resized[:,:,2])/255\n",
    "\n",
    "                    if (augment):\n",
    "                        shifted = cv2.warpAffine(image, \n",
    "                                                 np.float32([[1, 0, np.random.randint(-30,30)],[0, 1, np.random.randint(-30,30)]]), \n",
    "                                                (image.shape[1], image.shape[0]))\n",
    "\n",
    "                        gray = cv2.cvtColor(shifted,cv2.COLOR_BGR2GRAY)\n",
    "\n",
    "                        x0, y0 = np.argwhere(gray > 0).min(axis=0)\n",
    "                        x1, y1 = np.argwhere(gray > 0).max(axis=0) \n",
    "\n",
    "                        cropped=shifted[x0:x1,y0:y1,:]\n",
    "\n",
    "                        image_resized=imresize(cropped,(image_height,image_width,3))\n",
    "\n",
    "                        batch_data_aug[folder,idx,:,:,0] = (image_resized[:,:,0])/255\n",
    "                        batch_data_aug[folder,idx,:,:,1] = (image_resized[:,:,1])/255\n",
    "                        batch_data_aug[folder,idx,:,:,2] = (image_resized[:,:,2])/255\n",
    "\n",
    "\n",
    "                batch_labels[folder, int(t[folder + (batch*batch_size)].strip().split(';')[2])] = 1\n",
    "\n",
    "\n",
    "            if (augment):\n",
    "                batch_data=np.concatenate([batch_data,batch_data_aug])\n",
    "                batch_labels=np.concatenate([batch_labels,batch_labels])\n",
    "            yield batch_data, batch_labels\n"
   ]
  },
  {
   "cell_type": "markdown",
   "metadata": {},
   "source": [
    "Note here that a video is represented above in the generator as (number of images, height, width, number of channels). Take this into consideration while creating the model architecture."
   ]
  },
  {
   "cell_type": "code",
   "execution_count": 28,
   "metadata": {},
   "outputs": [
    {
     "name": "stdout",
     "output_type": "stream",
     "text": [
      "# training sequences = 663\n",
      "# validation sequences = 100\n",
      "# epochs = 6\n"
     ]
    }
   ],
   "source": [
    "curr_dt_time = datetime.datetime.now()\n",
    "train_path = './Project_data/train'\n",
    "val_path = './Project_data/val'\n",
    "num_train_sequences = len(train_doc)\n",
    "print('# training sequences =', num_train_sequences)\n",
    "num_val_sequences = len(val_doc)\n",
    "print('# validation sequences =', num_val_sequences)\n",
    "num_epochs = 6 # choose the number of epochs\n",
    "print ('# epochs =', num_epochs)"
   ]
  },
  {
   "cell_type": "markdown",
   "metadata": {},
   "source": [
    "## Model\n",
    "Here you make the model using different functionalities that Keras provides. Remember to use `Conv3D` and `MaxPooling3D` and not `Conv2D` and `Maxpooling2D` for a 3D convolution model. You would want to use `TimeDistributed` while building a Conv2D + RNN model. Also remember that the last layer is the softmax. Design the network in such a way that the model is able to give good accuracy on the least number of parameters so that it can fit in the memory of the webcam."
   ]
  },
  {
   "cell_type": "code",
   "execution_count": 29,
   "metadata": {},
   "outputs": [],
   "source": [
    "from keras.models import Sequential, Model\n",
    "from keras.layers import Dense, GRU, Flatten, TimeDistributed, Flatten, BatchNormalization, Activation\n",
    "from keras.layers.convolutional import Conv3D, MaxPooling3D,MaxPooling2D,Conv2D\n",
    "from keras.layers.recurrent import LSTM\n",
    "from keras.callbacks import ModelCheckpoint, ReduceLROnPlateau\n",
    "from keras import optimizers\n",
    "\n",
    "from keras.layers import Dropout\n",
    "#write your model here"
   ]
  },
  {
   "cell_type": "code",
   "execution_count": 30,
   "metadata": {},
   "outputs": [],
   "source": [
    "# Method to initialize batch size,epoch,image resolution,frame to sample\n",
    "total_frames=30\n",
    "frames_to_sample =20\n",
    "image_height=100\n",
    "image_width=100\n",
    "channels=3\n",
    "num_classes=5\n",
    "x=frames_to_sample\n",
    "y=image_height\n",
    "z=image_width\n",
    "augment=False\n",
    "def initializeParemeters(frames,img_height,img_width,batchSize,epoch,aug=True):\n",
    "    global frames_to_sample\n",
    "    global image_height\n",
    "    global image_width\n",
    "    global num_epochs\n",
    "    global batch_size\n",
    "    global x\n",
    "    global y\n",
    "    global z\n",
    "    global augment\n",
    "    frames_to_sample=frames\n",
    "    image_height=img_height\n",
    "    image_width=img_width\n",
    "    num_epochs=epoch\n",
    "    batch_size=batchSize\n",
    "    x=frames_to_sample\n",
    "    y=image_height\n",
    "    z=image_width\n",
    "    augment=aug"
   ]
  },
  {
   "cell_type": "markdown",
   "metadata": {},
   "source": [
    "# Conv3D Model "
   ]
  },
  {
   "cell_type": "code",
   "execution_count": 31,
   "metadata": {},
   "outputs": [],
   "source": [
    "def Conv3DModel():\n",
    "    model = Sequential()\n",
    "    model.add(Conv3D(16, (3, 3, 3), padding='same',input_shape=(frames_to_sample,image_height,image_width,channels)))\n",
    "    model.add(Activation('relu'))\n",
    "    model.add(BatchNormalization())\n",
    "    model.add(MaxPooling3D(pool_size=(2, 2, 2)))\n",
    "\n",
    "    model.add(Conv3D(32, (2, 2, 2), padding='same'))\n",
    "    model.add(Activation('relu'))\n",
    "    model.add(BatchNormalization())\n",
    "    model.add(MaxPooling3D(pool_size=(2, 2, 2)))\n",
    "\n",
    "    model.add(Conv3D(64, (2, 2, 2), padding='same'))\n",
    "    model.add(Activation('relu'))\n",
    "    model.add(BatchNormalization())\n",
    "    model.add(MaxPooling3D(pool_size=(2, 2, 2)))\n",
    "\n",
    "    model.add(Conv3D(128, (2, 2, 2), padding='same'))\n",
    "    model.add(Activation('relu'))\n",
    "    model.add(BatchNormalization())\n",
    "    model.add(MaxPooling3D(pool_size=(2, 2, 2)))\n",
    "\n",
    "    model.add(Flatten())\n",
    "    model.add(Dense(64,activation='relu'))\n",
    "    model.add(BatchNormalization())\n",
    "    model.add(Dropout(0.5))\n",
    "\n",
    "    model.add(Dense(64,activation='relu'))\n",
    "    model.add(BatchNormalization())\n",
    "    model.add(Dropout(0.25))\n",
    "\n",
    "\n",
    "    model.add(Dense(num_classes,activation='softmax'))\n",
    "    return model\n"
   ]
  },
  {
   "cell_type": "markdown",
   "metadata": {},
   "source": [
    "### 1 : Conv3D Model with 30 fames,100*100 image resolution,batchsize=40,epoch=15,augment = False\n",
    "categorical_accuracy: 0.9544 - val_loss: 0.5788 - val_categorical_accuracy: 0.8083 ,Trainable params: 387,749"
   ]
  },
  {
   "cell_type": "code",
   "execution_count": 32,
   "metadata": {},
   "outputs": [],
   "source": [
    "# initializeParemeters(30,100,100,40,15,False)\n",
    "# model=Conv3DModel()"
   ]
  },
  {
   "cell_type": "markdown",
   "metadata": {},
   "source": [
    "### 2 : Conv3D Model with 20 fames,100*100 image resolution,batchsize=30,epoch=15,augment = True\n",
    "categorical_accuracy: 0.8849 - val_loss: 0.6062 - val_categorical_accuracy: 0.7636 , Trainable params: 387,749"
   ]
  },
  {
   "cell_type": "code",
   "execution_count": 33,
   "metadata": {},
   "outputs": [],
   "source": [
    "# initializeParemeters(20,100,100,30,15,True)\n",
    "# model=Conv3DModel()"
   ]
  },
  {
   "cell_type": "markdown",
   "metadata": {},
   "source": [
    "# CNN-LSTM Model"
   ]
  },
  {
   "cell_type": "code",
   "execution_count": 34,
   "metadata": {},
   "outputs": [],
   "source": [
    "def CNNLstm_model(lstm_cells=64,dense_neurons=64,dropout=0.25):\n",
    "\n",
    "        model = Sequential()\n",
    "\n",
    "        model.add(TimeDistributed(Conv2D(16, (3, 3) , padding='same', activation='relu'),\n",
    "                                  input_shape=(frames_to_sample,image_height,image_width,channels)))\n",
    "        model.add(TimeDistributed(BatchNormalization()))\n",
    "        model.add(TimeDistributed(MaxPooling2D((2, 2))))\n",
    "        \n",
    "        model.add(TimeDistributed(Conv2D(32, (3, 3) , padding='same', activation='relu')))\n",
    "        model.add(TimeDistributed(BatchNormalization()))\n",
    "        model.add(TimeDistributed(MaxPooling2D((2, 2))))\n",
    "        \n",
    "        model.add(TimeDistributed(Conv2D(64, (3, 3) , padding='same', activation='relu')))\n",
    "        model.add(TimeDistributed(BatchNormalization()))\n",
    "        model.add(TimeDistributed(MaxPooling2D((2, 2))))\n",
    "        \n",
    "        model.add(TimeDistributed(Conv2D(128, (3, 3) , padding='same', activation='relu')))\n",
    "        model.add(TimeDistributed(BatchNormalization()))\n",
    "        model.add(TimeDistributed(MaxPooling2D((2, 2))))\n",
    "        \n",
    "        model.add(TimeDistributed(Conv2D(256, (3, 3) , padding='same', activation='relu')))\n",
    "        model.add(TimeDistributed(BatchNormalization()))\n",
    "        model.add(TimeDistributed(MaxPooling2D((2, 2))))\n",
    "        \n",
    "        model.add(TimeDistributed(Flatten()))\n",
    "\n",
    "        model.add(LSTM(lstm_cells))\n",
    "        model.add(Dropout(dropout))\n",
    "        \n",
    "        model.add(Dense(dense_neurons,activation='relu'))\n",
    "        model.add(Dropout(dropout))\n",
    "        \n",
    "        model.add(Dense(num_classes, activation='softmax'))\n",
    "        \n",
    "        return model"
   ]
  },
  {
   "cell_type": "markdown",
   "metadata": {},
   "source": [
    "### 3:CNN - LSTM Model with 30 fames,124*124 image resolution,batchsize=30,epoch=10,augment=True\n",
    "#### gru_cells=64,dense_neurons=64,dropout=0.25\n",
    "categorical_accuracy: 0.7404 - val_loss: 1.1308 - val_categorical_accuracy: 0.5091"
   ]
  },
  {
   "cell_type": "code",
   "execution_count": 35,
   "metadata": {},
   "outputs": [],
   "source": [
    "# initializeParemeters(30,124,124,30,10)\n",
    "# model= CNNLstm_model()"
   ]
  },
  {
   "cell_type": "markdown",
   "metadata": {},
   "source": [
    "### 4:CNN - LSTM Model with 20 fames,100*100 image resolution,batchsize=30,epoch=4,augment=True\n",
    "#### gru_cells=64,dense_neurons=64,dropout=0.25\n",
    "categorical_accuracy: 0.5305 - val_loss: 1.0920 - val_categorical_accuracy: 0.5727"
   ]
  },
  {
   "cell_type": "code",
   "execution_count": 36,
   "metadata": {},
   "outputs": [],
   "source": [
    "# initializeParemeters(20,100,100,30,4)\n",
    "# model= CNNLstm_model()"
   ]
  },
  {
   "cell_type": "markdown",
   "metadata": {},
   "source": [
    "# Mobilenet +Gru :- Transfer Learning with GRU and training all weights"
   ]
  },
  {
   "cell_type": "code",
   "execution_count": 37,
   "metadata": {},
   "outputs": [
    {
     "name": "stderr",
     "output_type": "stream",
     "text": [
      "/mnt/disks/user/anaconda3/lib/python3.6/site-packages/keras_applications/mobilenet.py:206: UserWarning: MobileNet shape is undefined. Weights for input shape (224, 224) will be loaded.\n",
      "  warnings.warn('MobileNet shape is undefined.'\n"
     ]
    }
   ],
   "source": [
    "from keras.applications import mobilenet\n",
    "mobilenet_transfer = mobilenet.MobileNet(input_shape=None,weights='imagenet', include_top=False)\n",
    "\n",
    "def GRU_model(gru_cells=64,dense_neurons=64,dropout=0.25):\n",
    "    \n",
    "    model = Sequential()\n",
    "    model.add(TimeDistributed(mobilenet_transfer,input_shape=(frames_to_sample,image_height,image_width,channels)))\n",
    "\n",
    "\n",
    "    model.add(TimeDistributed(BatchNormalization()))\n",
    "    model.add(TimeDistributed(MaxPooling2D((2, 2))))\n",
    "    model.add(TimeDistributed(Flatten()))\n",
    "\n",
    "    model.add(GRU(gru_cells))\n",
    "    model.add(Dropout(dropout))\n",
    "\n",
    "    model.add(Dense(dense_neurons,activation='relu'))\n",
    "    model.add(Dropout(dropout))\n",
    "\n",
    "    model.add(Dense(num_classes, activation='softmax'))\n",
    "    return model\n"
   ]
  },
  {
   "cell_type": "markdown",
   "metadata": {},
   "source": [
    "### 5 : GRU Model with 25 fames,100*100 image resolution,batchsize=30,epoch=4,augment=True\n",
    "\n",
    "#### gru_cells=64,dense_neurons=64,dropout=0.25\n",
    "ResourceExhaustedError"
   ]
  },
  {
   "cell_type": "markdown",
   "metadata": {},
   "source": [
    "### 6 : GRU Model with 20 fames,100*100 image resolution,batchsize=30,epoch=5,augment=True\n",
    "\n",
    "#### gru_cells=64,dense_neurons=64,dropout=0.25\n",
    "categorical_accuracy: 0.9448 - val_loss: 0.4075 - val_categorical_accuracy: 0.8364 ,Trainable params: 3,422,597\n"
   ]
  },
  {
   "cell_type": "code",
   "execution_count": 38,
   "metadata": {},
   "outputs": [],
   "source": [
    "# initializeParemeters(20,100,100,30,5)\n",
    "# model=GRU_model()"
   ]
  },
  {
   "cell_type": "markdown",
   "metadata": {},
   "source": [
    "### 7 : GRU Model with 20 fames,100*100 image resolution,batchsize=30,epoch=10,augment=True\n",
    "#### gru_cells=64,dense_neurons=64,dropout=0.25\n",
    "categorical_accuracy: 0.9599 - val_loss: 0.2934 - val_categorical_accuracy: 0.9091,Trainable params: 3,422,597"
   ]
  },
  {
   "cell_type": "code",
   "execution_count": 39,
   "metadata": {},
   "outputs": [],
   "source": [
    "initializeParemeters(20,100,100,30,10)\n",
    "model=GRU_model()"
   ]
  },
  {
   "cell_type": "markdown",
   "metadata": {},
   "source": [
    "Now that you have written the model, the next step is to `compile` the model. When you print the `summary` of the model, you'll see the total number of parameters you have to train."
   ]
  },
  {
   "cell_type": "code",
   "execution_count": 40,
   "metadata": {
    "scrolled": true
   },
   "outputs": [
    {
     "name": "stdout",
     "output_type": "stream",
     "text": [
      "_________________________________________________________________\n",
      "Layer (type)                 Output Shape              Param #   \n",
      "=================================================================\n",
      "time_distributed_5 (TimeDist (None, 20, 3, 3, 1024)    3228864   \n",
      "_________________________________________________________________\n",
      "time_distributed_6 (TimeDist (None, 20, 3, 3, 1024)    4096      \n",
      "_________________________________________________________________\n",
      "time_distributed_7 (TimeDist (None, 20, 1, 1, 1024)    0         \n",
      "_________________________________________________________________\n",
      "time_distributed_8 (TimeDist (None, 20, 1024)          0         \n",
      "_________________________________________________________________\n",
      "gru_2 (GRU)                  (None, 64)                209088    \n",
      "_________________________________________________________________\n",
      "dropout_3 (Dropout)          (None, 64)                0         \n",
      "_________________________________________________________________\n",
      "dense_3 (Dense)              (None, 64)                4160      \n",
      "_________________________________________________________________\n",
      "dropout_4 (Dropout)          (None, 64)                0         \n",
      "_________________________________________________________________\n",
      "dense_4 (Dense)              (None, 5)                 325       \n",
      "=================================================================\n",
      "Total params: 3,446,533\n",
      "Trainable params: 3,422,597\n",
      "Non-trainable params: 23,936\n",
      "_________________________________________________________________\n",
      "None\n"
     ]
    }
   ],
   "source": [
    "optimiser = optimizers.Adam() #write your optimizer\n",
    "model.compile(optimizer=optimiser, loss='categorical_crossentropy', metrics=['categorical_accuracy'])\n",
    "print (model.summary())"
   ]
  },
  {
   "cell_type": "markdown",
   "metadata": {},
   "source": [
    "Let us create the `train_generator` and the `val_generator` which will be used in `.fit_generator`."
   ]
  },
  {
   "cell_type": "code",
   "execution_count": 41,
   "metadata": {},
   "outputs": [],
   "source": [
    "train_generator = generator(train_path, train_doc, batch_size)\n",
    "val_generator = generator(val_path, val_doc, batch_size)"
   ]
  },
  {
   "cell_type": "code",
   "execution_count": 42,
   "metadata": {},
   "outputs": [],
   "source": [
    "model_name = 'model_init' + '_' + str(curr_dt_time).replace(' ','').replace(':','_') + '/'\n",
    "    \n",
    "if not os.path.exists(model_name):\n",
    "    os.mkdir(model_name)\n",
    "        \n",
    "filepath = model_name + 'model-{epoch:05d}-{loss:.5f}-{categorical_accuracy:.5f}-{val_loss:.5f}-{val_categorical_accuracy:.5f}.h5'\n",
    "\n",
    "checkpoint = ModelCheckpoint(filepath, monitor='val_loss', verbose=1, save_best_only=False, save_weights_only=False, mode='auto', period=1)\n",
    "\n",
    "LR = ReduceLROnPlateau(monitor='val_loss', factor=0.2, verbose=1, patience=4) # write the REducelronplateau code here\n",
    "callbacks_list = [checkpoint, LR]"
   ]
  },
  {
   "cell_type": "markdown",
   "metadata": {},
   "source": [
    "The `steps_per_epoch` and `validation_steps` are used by `fit_generator` to decide the number of next() calls it need to make."
   ]
  },
  {
   "cell_type": "code",
   "execution_count": 43,
   "metadata": {},
   "outputs": [],
   "source": [
    "if (num_train_sequences%batch_size) == 0:\n",
    "    steps_per_epoch = int(num_train_sequences/batch_size)\n",
    "else:\n",
    "    steps_per_epoch = (num_train_sequences//batch_size) + 1\n",
    "\n",
    "if (num_val_sequences%batch_size) == 0:\n",
    "    validation_steps = int(num_val_sequences/batch_size)\n",
    "else:\n",
    "    validation_steps = (num_val_sequences//batch_size) + 1"
   ]
  },
  {
   "cell_type": "markdown",
   "metadata": {},
   "source": [
    "Let us now fit the model. This will start training the model and with the help of the checkpoints, you'll be able to save the model at the end of each epoch."
   ]
  },
  {
   "cell_type": "code",
   "execution_count": 44,
   "metadata": {},
   "outputs": [
    {
     "name": "stdout",
     "output_type": "stream",
     "text": [
      "Source path =  ./Project_data/val ; batch size = 30\n",
      "Source path =  ./Project_data/train ; batch size = Epoch 1/10\n",
      "30\n"
     ]
    },
    {
     "name": "stderr",
     "output_type": "stream",
     "text": [
      "/mnt/disks/user/anaconda3/lib/python3.6/site-packages/ipykernel_launcher.py:13: DeprecationWarning: `imread` is deprecated!\n",
      "`imread` is deprecated in SciPy 1.0.0, and will be removed in 1.2.0.\n",
      "Use ``imageio.imread`` instead.\n",
      "  del sys.path[0]\n",
      "/mnt/disks/user/anaconda3/lib/python3.6/site-packages/ipykernel_launcher.py:17: DeprecationWarning: `imresize` is deprecated!\n",
      "`imresize` is deprecated in SciPy 1.0.0, and will be removed in 1.2.0.\n",
      "Use ``skimage.transform.resize`` instead.\n",
      "/mnt/disks/user/anaconda3/lib/python3.6/site-packages/ipykernel_launcher.py:40: DeprecationWarning: `imread` is deprecated!\n",
      "`imread` is deprecated in SciPy 1.0.0, and will be removed in 1.2.0.\n",
      "Use ``imageio.imread`` instead.\n",
      "/mnt/disks/user/anaconda3/lib/python3.6/site-packages/ipykernel_launcher.py:41: DeprecationWarning: `imresize` is deprecated!\n",
      "`imresize` is deprecated in SciPy 1.0.0, and will be removed in 1.2.0.\n",
      "Use ``skimage.transform.resize`` instead.\n",
      "/mnt/disks/user/anaconda3/lib/python3.6/site-packages/ipykernel_launcher.py:60: DeprecationWarning: `imresize` is deprecated!\n",
      "`imresize` is deprecated in SciPy 1.0.0, and will be removed in 1.2.0.\n",
      "Use ``skimage.transform.resize`` instead.\n"
     ]
    },
    {
     "name": "stdout",
     "output_type": "stream",
     "text": [
      "23/23 [==============================] - 63s 3s/step - loss: 1.3642 - categorical_accuracy: 0.4376 - val_loss: 0.9049 - val_categorical_accuracy: 0.6727\n",
      "\n",
      "Epoch 00001: saving model to model_init_2021-02-0813_35_36.208507/model-00001-1.36072-0.43544-0.90493-0.67273.h5\n",
      "Epoch 2/10\n",
      "23/23 [==============================] - 47s 2s/step - loss: 0.7074 - categorical_accuracy: 0.7467 - val_loss: 0.6974 - val_categorical_accuracy: 0.7182\n",
      "\n",
      "Epoch 00002: saving model to model_init_2021-02-0813_35_36.208507/model-00002-0.70338-0.75526-0.69740-0.71818.h5\n",
      "Epoch 3/10\n",
      "23/23 [==============================] - 50s 2s/step - loss: 0.3841 - categorical_accuracy: 0.8824 - val_loss: 0.3389 - val_categorical_accuracy: 0.8455\n",
      "\n",
      "Epoch 00003: saving model to model_init_2021-02-0813_35_36.208507/model-00003-0.39346-0.87838-0.33886-0.84545.h5\n",
      "Epoch 4/10\n",
      "23/23 [==============================] - 51s 2s/step - loss: 0.2238 - categorical_accuracy: 0.9376 - val_loss: 0.3859 - val_categorical_accuracy: 0.8000\n",
      "\n",
      "Epoch 00004: saving model to model_init_2021-02-0813_35_36.208507/model-00004-0.22234-0.93544-0.38591-0.80000.h5\n",
      "Epoch 5/10\n",
      "23/23 [==============================] - 51s 2s/step - loss: 0.1848 - categorical_accuracy: 0.9434 - val_loss: 0.3213 - val_categorical_accuracy: 0.8727\n",
      "\n",
      "Epoch 00005: saving model to model_init_2021-02-0813_35_36.208507/model-00005-0.18615-0.94144-0.32135-0.87273.h5\n",
      "Epoch 6/10\n",
      "23/23 [==============================] - 50s 2s/step - loss: 0.1438 - categorical_accuracy: 0.9497 - val_loss: 0.3469 - val_categorical_accuracy: 0.8364\n",
      "\n",
      "Epoch 00006: saving model to model_init_2021-02-0813_35_36.208507/model-00006-0.13099-0.95946-0.34690-0.83636.h5\n",
      "Epoch 7/10\n",
      "23/23 [==============================] - 50s 2s/step - loss: 0.1033 - categorical_accuracy: 0.9710 - val_loss: 0.6243 - val_categorical_accuracy: 0.7909\n",
      "\n",
      "Epoch 00007: saving model to model_init_2021-02-0813_35_36.208507/model-00007-0.10557-0.96997-0.62433-0.79091.h5\n",
      "Epoch 8/10\n",
      "23/23 [==============================] - 50s 2s/step - loss: 0.0861 - categorical_accuracy: 0.9782 - val_loss: 0.3976 - val_categorical_accuracy: 0.8455\n",
      "\n",
      "Epoch 00008: saving model to model_init_2021-02-0813_35_36.208507/model-00008-0.08387-0.97748-0.39756-0.84545.h5\n",
      "Epoch 9/10\n",
      "23/23 [==============================] - 50s 2s/step - loss: 0.1107 - categorical_accuracy: 0.9584 - val_loss: 0.4238 - val_categorical_accuracy: 0.8545\n",
      "\n",
      "Epoch 00009: saving model to model_init_2021-02-0813_35_36.208507/model-00009-0.09566-0.96847-0.42384-0.85455.h5\n",
      "\n",
      "Epoch 00009: ReduceLROnPlateau reducing learning rate to 0.00020000000949949026.\n",
      "Epoch 10/10\n",
      "23/23 [==============================] - 49s 2s/step - loss: 0.1643 - categorical_accuracy: 0.9599 - val_loss: 0.2934 - val_categorical_accuracy: 0.9091\n",
      "\n",
      "Epoch 00010: saving model to model_init_2021-02-0813_35_36.208507/model-00010-0.11304-0.96997-0.29342-0.90909.h5\n"
     ]
    },
    {
     "data": {
      "text/plain": [
       "<keras.callbacks.History at 0x7f763ae5a978>"
      ]
     },
     "execution_count": 44,
     "metadata": {},
     "output_type": "execute_result"
    }
   ],
   "source": [
    "model.fit_generator(train_generator, steps_per_epoch=steps_per_epoch, epochs=num_epochs, verbose=1, \n",
    "                    callbacks=callbacks_list, validation_data=val_generator, \n",
    "                    validation_steps=validation_steps, class_weight=None, workers=1, initial_epoch=0)"
   ]
  },
  {
   "cell_type": "code",
   "execution_count": null,
   "metadata": {},
   "outputs": [],
   "source": []
  }
 ],
 "metadata": {
  "kernelspec": {
   "display_name": "Python 3",
   "language": "python",
   "name": "python3"
  },
  "language_info": {
   "codemirror_mode": {
    "name": "ipython",
    "version": 3
   },
   "file_extension": ".py",
   "mimetype": "text/x-python",
   "name": "python",
   "nbconvert_exporter": "python",
   "pygments_lexer": "ipython3",
   "version": "3.7.1"
  }
 },
 "nbformat": 4,
 "nbformat_minor": 2
}
